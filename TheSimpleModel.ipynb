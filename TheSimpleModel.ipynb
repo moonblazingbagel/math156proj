{
 "cells": [
  {
   "cell_type": "code",
   "execution_count": 21,
   "id": "63c5a790-17d9-4126-8c26-2b91d2800b00",
   "metadata": {},
   "outputs": [
    {
     "name": "stdout",
     "output_type": "stream",
     "text": [
      "✅ complete\n"
     ]
    }
   ],
   "source": [
    "# Imports\n",
    "import torch\n",
    "import torch.nn as nn\n",
    "from torch.utils.data import Dataset, DataLoader\n",
    "import re\n",
    "from collections import Counter\n",
    "import requests\n",
    "print(\"✅ complete\")"
   ]
  },
  {
   "cell_type": "code",
   "execution_count": 22,
   "id": "1093bc26-d5ac-4686-9fe9-4757dfbe3644",
   "metadata": {},
   "outputs": [],
   "source": [
    "import re\n",
    "import requests\n",
    "from collections import Counter\n",
    "\n",
    "def preprocess_text(text):\n",
    "    text = text.lower()\n",
    "    text = re.sub(r\"[^\\w\\s]\", \"\", text)\n",
    "    return text.split()\n",
    "\n",
    "def build_vocab(word_list, vocab_size=5000):\n",
    "    most_common = Counter(word_list).most_common(vocab_size - 1)\n",
    "    vocab = {w: i+1 for i, (w, _) in enumerate(most_common)}\n",
    "    vocab[\"<UNK>\"] = 0\n",
    "    return vocab\n",
    "\n",
    "def encode_words(word_list, vocab):\n",
    "    return [vocab.get(word, vocab[\"<UNK>\"]) for word in word_list]\n",
    "\n",
    "# --- Download and process text ---\n",
    "url = \"https://www.gutenberg.org/files/11/11-0.txt\"\n",
    "response = requests.get(url)\n",
    "raw_text = response.text\n",
    "\n",
    "words = preprocess_text(raw_text)\n",
    "vocab = build_vocab(words)               # ⬅ Now matches your original variable name\n",
    "encoded = encode_words(words, vocab)\n",
    "idx2word = {i: w for w, i in vocab.items()}  "
   ]
  },
  {
   "cell_type": "code",
   "execution_count": 23,
   "id": "9893bdf9-97e1-43c5-91fb-a388db441ab4",
   "metadata": {},
   "outputs": [
    {
     "name": "stdout",
     "output_type": "stream",
     "text": [
      "✅ complete\n"
     ]
    }
   ],
   "source": [
    "# --- Dataset Class ---\n",
    "class LanguageModelDataset(Dataset):\n",
    "    def __init__(self, data, seq_len):\n",
    "        self.data = data\n",
    "        self.seq_len = seq_len\n",
    "\n",
    "    def __len__(self):\n",
    "        return len(self.data) - self.seq_len\n",
    "\n",
    "    def __getitem__(self, idx):\n",
    "        x = torch.tensor(self.data[idx : idx + self.seq_len])\n",
    "        y = torch.tensor(self.data[idx + self.seq_len])\n",
    "        return x, y\n",
    "\n",
    "seq_len = 5\n",
    "dataset = LanguageModelDataset(encoded, seq_len)\n",
    "loader = DataLoader(dataset, batch_size=64, shuffle=True, drop_last=True)\n",
    "print(\"✅ complete\")"
   ]
  },
  {
   "cell_type": "code",
   "execution_count": 24,
   "id": "66aff363-68a9-48b4-ac84-dd5e2d7e6de2",
   "metadata": {},
   "outputs": [
    {
     "name": "stdout",
     "output_type": "stream",
     "text": [
      "✅ complete\n"
     ]
    }
   ],
   "source": [
    "# --- Model Definition ---\n",
    "class NeuralLM(nn.Module):\n",
    "    def __init__(self, vocab_size, embed_dim=64, hidden_dim=128):\n",
    "        super().__init__()\n",
    "        self.embedding = nn.Embedding(vocab_size, embed_dim)\n",
    "        self.rnn = nn.GRU(embed_dim, hidden_dim, batch_first=True)\n",
    "        self.fc = nn.Linear(hidden_dim, vocab_size)\n",
    "\n",
    "    def forward(self, x):\n",
    "        x = self.embedding(x)\n",
    "        out, _ = self.rnn(x)\n",
    "        out = self.fc(out[:, -1])  # only use the last time step\n",
    "        return out\n",
    "\n",
    "vocab_size = len(vocab)\n",
    "model = NeuralLM(vocab_size)\n",
    "optimizer = torch.optim.Adam(model.parameters(), lr=0.005)\n",
    "criterion = nn.CrossEntropyLoss()\n",
    "print(\"✅ complete\")"
   ]
  },
  {
   "cell_type": "code",
   "execution_count": 25,
   "id": "262c5dc1-aa98-4021-9232-06dbf539a1f5",
   "metadata": {},
   "outputs": [
    {
     "name": "stdout",
     "output_type": "stream",
     "text": [
      "Epoch 1, Loss: 2409.8725\n",
      "Epoch 2, Loss: 1919.3764\n",
      "Epoch 3, Loss: 1516.2150\n",
      "Epoch 4, Loss: 1153.0828\n",
      "Epoch 5, Loss: 884.2304\n",
      "Epoch 6, Loss: 696.0562\n",
      "Epoch 7, Loss: 551.7852\n",
      "Epoch 8, Loss: 448.5031\n",
      "Epoch 9, Loss: 372.3228\n",
      "Epoch 10, Loss: 324.1809\n",
      "Epoch 11, Loss: 291.6503\n",
      "Epoch 12, Loss: 261.1475\n",
      "Epoch 13, Loss: 239.8613\n",
      "Epoch 14, Loss: 230.3989\n",
      "Epoch 15, Loss: 224.7477\n",
      "Epoch 16, Loss: 228.2571\n",
      "Epoch 17, Loss: 214.5289\n",
      "Epoch 18, Loss: 200.2079\n",
      "Epoch 19, Loss: 200.6325\n",
      "Epoch 20, Loss: 208.5522\n",
      "Epoch 21, Loss: 202.3596\n",
      "Epoch 22, Loss: 207.9450\n",
      "Epoch 23, Loss: 198.6125\n",
      "Epoch 24, Loss: 193.0460\n",
      "Epoch 25, Loss: 206.5504\n",
      "Epoch 26, Loss: 201.2641\n",
      "Epoch 27, Loss: 195.6051\n",
      "Epoch 28, Loss: 199.8329\n",
      "Epoch 29, Loss: 201.3827\n",
      "Epoch 30, Loss: 194.5481\n",
      "Epoch 31, Loss: 210.2118\n",
      "Epoch 32, Loss: 194.4947\n",
      "Epoch 33, Loss: 194.0844\n",
      "Epoch 34, Loss: 206.6296\n",
      "Epoch 35, Loss: 208.2340\n",
      "Epoch 36, Loss: 208.5478\n",
      "Epoch 37, Loss: 207.9523\n",
      "Epoch 38, Loss: 202.8148\n",
      "Epoch 39, Loss: 206.0009\n",
      "Epoch 40, Loss: 194.9866\n",
      "Epoch 41, Loss: 194.7532\n",
      "Epoch 42, Loss: 197.4001\n",
      "Epoch 43, Loss: 196.0046\n",
      "Epoch 44, Loss: 189.5658\n",
      "Epoch 45, Loss: 201.3770\n",
      "Epoch 46, Loss: 199.9046\n",
      "Epoch 47, Loss: 220.8839\n",
      "Epoch 48, Loss: 224.1618\n",
      "Epoch 49, Loss: 214.7576\n",
      "Epoch 50, Loss: 203.4025\n",
      "Epoch 51, Loss: 200.1893\n",
      "Epoch 52, Loss: 198.6647\n",
      "Epoch 53, Loss: 202.2612\n",
      "Epoch 54, Loss: 206.7842\n",
      "Epoch 55, Loss: 218.7595\n",
      "Epoch 56, Loss: 216.7140\n",
      "Epoch 57, Loss: 218.8161\n",
      "Epoch 58, Loss: 208.8137\n",
      "Epoch 59, Loss: 207.0339\n",
      "Epoch 60, Loss: 212.7309\n",
      "Epoch 61, Loss: 232.1754\n",
      "Epoch 62, Loss: 208.2299\n",
      "Epoch 63, Loss: 219.9019\n",
      "Epoch 64, Loss: 226.1928\n",
      "Epoch 65, Loss: 235.2936\n",
      "Epoch 66, Loss: 211.8972\n",
      "Epoch 67, Loss: 204.4785\n",
      "Epoch 68, Loss: 210.2686\n",
      "Epoch 69, Loss: 234.0617\n",
      "Epoch 70, Loss: 235.0762\n",
      "Epoch 71, Loss: 232.2460\n",
      "Epoch 72, Loss: 229.1287\n",
      "Epoch 73, Loss: 205.3177\n",
      "Epoch 74, Loss: 194.6360\n",
      "Epoch 75, Loss: 205.6994\n",
      "Epoch 76, Loss: 213.6008\n",
      "Epoch 77, Loss: 212.8760\n",
      "Epoch 78, Loss: 220.4217\n",
      "Epoch 79, Loss: 227.2519\n",
      "Epoch 80, Loss: 235.0609\n",
      "Epoch 81, Loss: 230.7489\n",
      "Epoch 82, Loss: 225.1106\n",
      "Epoch 83, Loss: 234.6425\n",
      "Epoch 84, Loss: 246.9616\n",
      "Epoch 85, Loss: 236.8034\n",
      "Epoch 86, Loss: 231.9342\n",
      "Epoch 87, Loss: 224.0651\n",
      "Epoch 88, Loss: 209.4898\n",
      "Epoch 89, Loss: 230.9182\n",
      "Epoch 90, Loss: 237.9577\n",
      "Epoch 91, Loss: 235.5861\n",
      "Epoch 92, Loss: 253.5675\n",
      "Epoch 93, Loss: 244.1233\n",
      "Epoch 94, Loss: 223.7602\n",
      "Epoch 95, Loss: 236.9037\n",
      "Epoch 96, Loss: 233.2974\n",
      "Epoch 97, Loss: 226.9737\n",
      "Epoch 98, Loss: 232.7207\n",
      "Epoch 99, Loss: 239.4933\n",
      "Epoch 100, Loss: 242.9830\n",
      "✅ complete\n"
     ]
    }
   ],
   "source": [
    "# --- Training Loop ---\n",
    "for epoch in range(100):\n",
    "    total_loss = 0\n",
    "    for inputs, targets in loader:\n",
    "        outputs = model(inputs)\n",
    "        loss = criterion(outputs, targets)\n",
    "        optimizer.zero_grad()\n",
    "        loss.backward()\n",
    "        optimizer.step()\n",
    "        total_loss += loss.item()\n",
    "    print(f\"Epoch {epoch+1}, Loss: {total_loss:.4f}\")\n",
    "    torch.save(model.state_dict(), f\"neural_lm_epoch{epoch+1}.pt\")\n",
    "print(\"✅ complete\")"
   ]
  },
  {
   "cell_type": "code",
   "execution_count": 26,
   "id": "49a03c26-cc2a-45fe-9c40-70beb2abb20e",
   "metadata": {},
   "outputs": [
    {
     "name": "stdout",
     "output_type": "stream",
     "text": [
      "Input: she was not a bit\n",
      "Next word prediction: hurt\n",
      "✅ complete\n"
     ]
    }
   ],
   "source": [
    "# --- Next Word Prediction ---\n",
    "def predict_next_word(seed_text):\n",
    "    model.eval()\n",
    "    seed_words = preprocess_text(seed_text)[-seq_len:]\n",
    "    encoded_input = encode_words(seed_words, vocab)\n",
    "    if len(encoded_input) < seq_len:\n",
    "        encoded_input = [0] * (seq_len - len(encoded_input)) + encoded_input\n",
    "    input_tensor = torch.tensor([encoded_input])\n",
    "    with torch.no_grad():\n",
    "        output = model(input_tensor)\n",
    "        next_word_id = torch.argmax(output, dim=-1).item()\n",
    "    return idx2word[next_word_id]\n",
    "\n",
    "print(\"Input:\", \"she was not a bit\")\n",
    "print(\"Next word prediction:\", predict_next_word(\"she was not a bit\"))\n",
    "print(\"✅ complete\")"
   ]
  },
  {
   "cell_type": "code",
   "execution_count": 27,
   "id": "36c1a961-a5fb-4e3f-ac66-e9c7a9ad2906",
   "metadata": {},
   "outputs": [
    {
     "name": "stdout",
     "output_type": "stream",
     "text": [
      "Input: she was not a bit\n",
      "Next word prediction: hurt\n"
     ]
    }
   ],
   "source": [
    "print(\"Input:\", \"she was not a bit\")\n",
    "print(\"Next word prediction:\", predict_next_word(\"she was not a bit\"))"
   ]
  },
  {
   "cell_type": "code",
   "execution_count": 28,
   "id": "52a46232-2a10-41b2-b7cb-f6571409cf42",
   "metadata": {},
   "outputs": [
    {
     "name": "stdout",
     "output_type": "stream",
     "text": [
      "Input: Alice fell down the rabbit\n",
      "Next word prediction: then\n"
     ]
    }
   ],
   "source": [
    "print(\"Input:\", \"Alice fell down the rabbit\")\n",
    "print(\"Next word prediction:\", predict_next_word(\"Alice fell down the rabbit\"))"
   ]
  },
  {
   "cell_type": "code",
   "execution_count": 29,
   "id": "296fe018-9f86-4ae0-902b-ef66435dc5c3",
   "metadata": {},
   "outputs": [
    {
     "name": "stdout",
     "output_type": "stream",
     "text": [
      "Input: I am going to attack\n",
      "Next word prediction: the\n"
     ]
    }
   ],
   "source": [
    "print(\"Input:\", \"I am going to attack\")\n",
    "print(\"Next word prediction:\", predict_next_word(\"I am going to attack\"))"
   ]
  }
 ],
 "metadata": {
  "kernelspec": {
   "display_name": "Python (gpt2env)",
   "language": "python",
   "name": "gpt2env"
  },
  "language_info": {
   "codemirror_mode": {
    "name": "ipython",
    "version": 3
   },
   "file_extension": ".py",
   "mimetype": "text/x-python",
   "name": "python",
   "nbconvert_exporter": "python",
   "pygments_lexer": "ipython3",
   "version": "3.10.16"
  }
 },
 "nbformat": 4,
 "nbformat_minor": 5
}
