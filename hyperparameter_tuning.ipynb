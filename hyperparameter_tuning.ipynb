{
 "cells": [
  {
   "cell_type": "code",
   "execution_count": 187,
   "id": "63c5a790-17d9-4126-8c26-2b91d2800b00",
   "metadata": {},
   "outputs": [
    {
     "name": "stdout",
     "output_type": "stream",
     "text": [
      "complete\n"
     ]
    }
   ],
   "source": [
    "#Imports\n",
    "import torch\n",
    "import torch.nn as nn\n",
    "from torch.utils.data import Dataset, DataLoader\n",
    "import re\n",
    "from collections import Counter\n",
    "import requests\n",
    "import logging\n",
    "\n",
    "logging.getLogger(\"transformers\").setLevel(logging.ERROR)\n",
    "\n",
    "print(\"complete\")"
   ]
  },
  {
   "cell_type": "code",
   "execution_count": 188,
   "id": "1093bc26-d5ac-4686-9fe9-4757dfbe3644",
   "metadata": {},
   "outputs": [],
   "source": [
    "def preprocess_text(text):\n",
    "    text = text.lower()\n",
    "    text = re.sub(r\"[^\\w\\s]\", \"\", text)\n",
    "    return text.split()\n",
    "\n",
    "def build_vocab(word_list, vocab_size=5000):\n",
    "    most_common = Counter(word_list).most_common(vocab_size - 1)\n",
    "    vocab = {w: i+1 for i, (w, _) in enumerate(most_common)}\n",
    "    vocab[\"<UNK>\"] = 0\n",
    "    return vocab\n",
    "\n",
    "def encode_words(word_list, vocab):\n",
    "    return [vocab.get(word, vocab[\"<UNK>\"]) for word in word_list]\n",
    "\n",
    "url = \"https://www.gutenberg.org/files/11/11-0.txt\"\n",
    "response = requests.get(url)\n",
    "raw_text = response.text\n",
    "\n",
    "words = preprocess_text(raw_text)\n",
    "vocab = build_vocab(words)               \n",
    "encoded = encode_words(words, vocab)\n",
    "idx2word = {i: w for w, i in vocab.items()}  "
   ]
  },
  {
   "cell_type": "code",
   "execution_count": 189,
   "id": "9893bdf9-97e1-43c5-91fb-a388db441ab4",
   "metadata": {},
   "outputs": [],
   "source": [
    "\n",
    "class SimpleGRU(nn.Module):\n",
    "    def __init__(self, input_dim, hidden_dim):\n",
    "        super(SimpleGRU, self).__init__()\n",
    "        self.input_dim = input_dim\n",
    "        self.hidden_dim = hidden_dim\n",
    "\n",
    "        self.W_z = nn.Linear(input_dim, hidden_dim)\n",
    "        self.U_z = nn.Linear(hidden_dim, hidden_dim, bias=False)\n",
    "\n",
    "        self.W_r = nn.Linear(input_dim, hidden_dim)\n",
    "        self.U_r = nn.Linear(hidden_dim, hidden_dim, bias=False)\n",
    "\n",
    "        self.W_h = nn.Linear(input_dim, hidden_dim)\n",
    "        self.U_h = nn.Linear(hidden_dim, hidden_dim, bias=False)\n",
    "\n",
    "    def forward(self, x, h_0=None):\n",
    "        seq_len, batch_size, _ = x.size()\n",
    "        if h_0 is None:\n",
    "            h_t = torch.zeros(batch_size, self.hidden_dim, device=x.device)\n",
    "        else:\n",
    "            h_t = h_0\n",
    "\n",
    "        outputs = []\n",
    "        for t in range(seq_len):\n",
    "            x_t = x[t]\n",
    "            z_t = torch.sigmoid(self.W_z(x_t) + self.U_z(h_t))\n",
    "            r_t = torch.sigmoid(self.W_r(x_t) + self.U_r(h_t))\n",
    "            h_tilde = torch.tanh(self.W_h(x_t) + self.U_h(r_t * h_t))\n",
    "            h_t = (1 - z_t) * h_t + z_t * h_tilde\n",
    "            outputs.append(h_t.unsqueeze(0))\n",
    "        return torch.cat(outputs, dim=0), h_t\n",
    "\n",
    "\n",
    "class GRULanguageModel(nn.Module):\n",
    "    def __init__(self, vocab_size, embedding_dim, hidden_dim):\n",
    "        super(GRULanguageModel, self).__init__()\n",
    "        self.embedding = nn.Embedding(vocab_size, embedding_dim)\n",
    "        self.gru = SimpleGRU(embedding_dim, hidden_dim)\n",
    "        self.decoder = nn.Linear(hidden_dim, vocab_size)\n",
    "\n",
    "    def forward(self, input_seq):\n",
    "        embedded = self.embedding(input_seq)\n",
    "        gru_out, _ = self.gru(embedded)\n",
    "        logits = self.decoder(gru_out[-1])\n",
    "        return logits\n"
   ]
  },
  {
   "cell_type": "code",
   "execution_count": 190,
   "id": "66aff363-68a9-48b4-ac84-dd5e2d7e6de2",
   "metadata": {},
   "outputs": [
    {
     "name": "stdout",
     "output_type": "stream",
     "text": [
      "complete\n"
     ]
    }
   ],
   "source": [
    "class NeuralLM(nn.Module):\n",
    "    def __init__(self, vocab_size, embed_dim=128, hidden_dim=128, num_layers=1):\n",
    "        super().__init__()\n",
    "        self.embedding = nn.Embedding(vocab_size, embed_dim)\n",
    "        self.rnn = nn.GRU(embed_dim, hidden_dim, num_layers=num_layers, batch_first=True)\n",
    "        self.fc = nn.Linear(hidden_dim, vocab_size)\n",
    "\n",
    "    def forward(self, x):\n",
    "        x = self.embedding(x)\n",
    "        out, _ = self.rnn(x)\n",
    "        out = self.fc(out[:, -1]) \n",
    "        return out\n",
    "\n",
    "vocab_size = len(vocab)\n",
    "model = NeuralLM(vocab_size)\n",
    "optimizer = torch.optim.Adam(model.parameters(), lr=0.005)\n",
    "criterion = nn.CrossEntropyLoss()\n",
    "print(\"complete\")"
   ]
  },
  {
   "cell_type": "code",
   "execution_count": 191,
   "id": "64073dac",
   "metadata": {},
   "outputs": [],
   "source": [
    "\n",
    "from torch.utils.data import Dataset, DataLoader\n",
    "\n",
    "class LanguageModelDataset(Dataset):\n",
    "    def __init__(self, data, seq_len):\n",
    "        self.data = data\n",
    "        self.seq_len = seq_len\n",
    "\n",
    "    def __len__(self):\n",
    "        return len(self.data) - self.seq_len\n",
    "\n",
    "    def __getitem__(self, idx):\n",
    "        x = torch.tensor(self.data[idx : idx + self.seq_len])\n",
    "        y = torch.tensor(self.data[idx + self.seq_len])\n",
    "        return x, y\n",
    "\n",
    "\n",
    "dataset = LanguageModelDataset(encoded, seq_len=5)\n",
    "loader = DataLoader(dataset, batch_size=64, shuffle=True, drop_last=True)"
   ]
  },
  {
   "cell_type": "code",
   "execution_count": 192,
   "id": "262c5dc1-aa98-4021-9232-06dbf539a1f5",
   "metadata": {},
   "outputs": [
    {
     "name": "stdout",
     "output_type": "stream",
     "text": [
      "Epoch 1, Loss: 2396.2289\n",
      "Epoch 2, Loss: 1861.8971\n",
      "Epoch 3, Loss: 1422.7875\n",
      "Epoch 4, Loss: 1055.9580\n",
      "Epoch 5, Loss: 794.7183\n",
      "Epoch 6, Loss: 613.8639\n",
      "Epoch 7, Loss: 486.0420\n",
      "Epoch 8, Loss: 390.7738\n",
      "Epoch 9, Loss: 327.9866\n",
      "Epoch 10, Loss: 280.6229\n",
      "complete\n"
     ]
    }
   ],
   "source": [
    "for epoch in range(10):\n",
    "    total_loss = 0\n",
    "    for inputs, targets in loader:\n",
    "        outputs = model(inputs)\n",
    "        loss = criterion(outputs, targets)\n",
    "        optimizer.zero_grad()\n",
    "        loss.backward()\n",
    "        optimizer.step()\n",
    "        total_loss += loss.item()\n",
    "    print(f\"Epoch {epoch+1}, Loss: {total_loss:.4f}\")\n",
    "    torch.save(model.state_dict(), f\"neural_lm_epoch{epoch+1}.pt\")\n",
    "print(\"complete\")"
   ]
  },
  {
   "cell_type": "code",
   "execution_count": 193,
   "id": "b5b6216e",
   "metadata": {},
   "outputs": [],
   "source": [
    "seq_len = 5"
   ]
  },
  {
   "cell_type": "code",
   "execution_count": 194,
   "id": "49a03c26-cc2a-45fe-9c40-70beb2abb20e",
   "metadata": {},
   "outputs": [],
   "source": [
    "def predict_next_word(seed_text):\n",
    "    model.eval()\n",
    "    seed_words = preprocess_text(seed_text)[-seq_len:]\n",
    "    encoded_input = encode_words(seed_words, vocab)\n",
    "    if len(encoded_input) < seq_len:\n",
    "        encoded_input = [0] * (seq_len - len(encoded_input)) + encoded_input\n",
    "    input_tensor = torch.tensor([encoded_input])\n",
    "    with torch.no_grad():\n",
    "        output = model(input_tensor)\n",
    "        next_word_id = torch.argmax(output, dim=-1).item()\n",
    "    return idx2word[next_word_id]"
   ]
  },
  {
   "cell_type": "code",
   "execution_count": 195,
   "id": "36c1a961-a5fb-4e3f-ac66-e9c7a9ad2906",
   "metadata": {},
   "outputs": [
    {
     "name": "stdout",
     "output_type": "stream",
     "text": [
      "Input: she was not a bit\n",
      "Next word prediction: she\n"
     ]
    }
   ],
   "source": [
    "print(\"Input:\", \"she was not a bit\")\n",
    "print(\"Next word prediction:\", predict_next_word(\"she was not a bit\"))"
   ]
  },
  {
   "cell_type": "code",
   "execution_count": 196,
   "id": "52a46232-2a10-41b2-b7cb-f6571409cf42",
   "metadata": {},
   "outputs": [
    {
     "name": "stdout",
     "output_type": "stream",
     "text": [
      "Input: Alice fell down the rabbit\n",
      "Next word prediction: hastily\n"
     ]
    }
   ],
   "source": [
    "print(\"Input:\", \"Alice fell down the rabbit\")\n",
    "print(\"Next word prediction:\", predict_next_word(\"Alice fell down the rabbit\"))"
   ]
  },
  {
   "cell_type": "code",
   "execution_count": 197,
   "id": "296fe018-9f86-4ae0-902b-ef66435dc5c3",
   "metadata": {},
   "outputs": [
    {
     "name": "stdout",
     "output_type": "stream",
     "text": [
      "Input: I am going to attack\n",
      "Next word prediction: me\n"
     ]
    }
   ],
   "source": [
    "print(\"Input:\", \"I am going to attack\")\n",
    "print(\"Next word prediction:\", predict_next_word(\"I am going to attack\"))"
   ]
  },
  {
   "cell_type": "code",
   "execution_count": null,
   "id": "44c21c78-2817-459e-9142-8d7a5f56d417",
   "metadata": {},
   "outputs": [
    {
     "name": "stdout",
     "output_type": "stream",
     "text": [
      "calculating scores...\n",
      "computing bert embedding.\n"
     ]
    },
    {
     "name": "stderr",
     "output_type": "stream",
     "text": [
      "100%|██████████████████████████████████████████████████████████████████████████████████████████████████████████| 1/1 [00:02<00:00,  2.42s/it]\n"
     ]
    },
    {
     "name": "stdout",
     "output_type": "stream",
     "text": [
      "computing greedy matching.\n"
     ]
    },
    {
     "name": "stderr",
     "output_type": "stream",
     "text": [
      "100%|█████████████████████████████████████████████████████████████████████████████████████████████████████████| 1/1 [00:00<00:00, 546.35it/s]"
     ]
    },
    {
     "name": "stdout",
     "output_type": "stream",
     "text": [
      "done in 2.42 seconds, 4.13 sentences/sec\n",
      "1. Input: She walked into the room and\n",
      "   True Sentence:      She walked into the room and smiled\n",
      "   Predicted Sentence: She walked into the room and cried\n",
      "   BERTScore (F1):     0.9713\n",
      "------------------------------------------------------------\n",
      "2. Input: The sun was setting behind\n",
      "   True Sentence:      The sun was setting behind mountains\n",
      "   Predicted Sentence: The sun was setting behind cried\n",
      "   BERTScore (F1):     0.9580\n",
      "------------------------------------------------------------\n",
      "3. Input: He opened the book and\n",
      "   True Sentence:      He opened the book and read\n",
      "   Predicted Sentence: He opened the book and cried\n",
      "   BERTScore (F1):     0.9572\n",
      "------------------------------------------------------------\n",
      "4. Input: They ran through the field while\n",
      "   True Sentence:      They ran through the field while laughing\n",
      "   Predicted Sentence: They ran through the field while cried\n",
      "   BERTScore (F1):     0.9604\n",
      "------------------------------------------------------------\n",
      "5. Input: A dog barked at the\n",
      "   True Sentence:      A dog barked at the mailman\n",
      "   Predicted Sentence: A dog barked at the cried\n",
      "   BERTScore (F1):     0.9431\n",
      "------------------------------------------------------------\n",
      "6. Input: He looked at her and\n",
      "   True Sentence:      He looked at her and nodded\n",
      "   Predicted Sentence: He looked at her and cried\n",
      "   BERTScore (F1):     0.9531\n",
      "------------------------------------------------------------\n",
      "7. Input: It started to rain just as\n",
      "   True Sentence:      It started to rain just as arrived\n",
      "   Predicted Sentence: It started to rain just as cried\n",
      "   BERTScore (F1):     0.9691\n",
      "------------------------------------------------------------\n",
      "8. Input: The child smiled when\n",
      "   True Sentence:      The child smiled when joy\n",
      "   Predicted Sentence: The child smiled when cried\n",
      "   BERTScore (F1):     0.9359\n",
      "------------------------------------------------------------\n",
      "9. Input: The quick brown fox\n",
      "   True Sentence:      The quick brown fox jumps\n",
      "   Predicted Sentence: The quick brown fox cried\n",
      "   BERTScore (F1):     0.9353\n",
      "------------------------------------------------------------\n",
      "10. Input: He never expected to see\n",
      "   True Sentence:      He never expected to see her\n",
      "   Predicted Sentence: He never expected to see cried\n",
      "   BERTScore (F1):     0.9398\n",
      "------------------------------------------------------------\n",
      "\n",
      "✅ Average BERTScore over 10 examples: 0.9523\n"
     ]
    },
    {
     "name": "stderr",
     "output_type": "stream",
     "text": [
      "\n"
     ]
    }
   ],
   "source": [
    "from bert_score import score as bertscore\n",
    "import torch\n",
    "\n",
    "# Ensure vocab mappings are defined\n",
    "word2idx = vocab\n",
    "idx2word = {i: w for w, i in word2idx.items()}\n",
    "\n",
    "# Set device\n",
    "device = torch.device(\"cuda\" if torch.cuda.is_available() else \"cpu\")\n",
    "model.to(device)\n",
    "model.eval()\n",
    "\n",
    "# Replace these with your actual test prefixes\n",
    "test_inputs = [\n",
    "    \"She walked into the room and\",\n",
    "    \"The sun was setting behind\",\n",
    "    \"He opened the book and\",\n",
    "    \"They ran through the field while\",\n",
    "    \"A dog barked at the\",\n",
    "    \"He looked at her and\",\n",
    "    \"It started to rain just as\",\n",
    "    \"The child smiled when\",\n",
    "    \"The quick brown fox\",\n",
    "    \"He never expected to see\"\n",
    "]\n",
    "\n",
    "# Replace these with correct ground-truth words if you have them\n",
    "true_words = [\n",
    "    \"smiled\", \"mountains\", \"read\", \"laughing\", \"mailman\",\n",
    "    \"nodded\", \"arrived\", \"joy\", \"jumps\", \"her\"\n",
    "]\n",
    "\n",
    "predicted_sentences = []\n",
    "true_sentences = []\n",
    "\n",
    "for input_text, true_word in zip(test_inputs, true_words):\n",
    "    input_tokens = input_text.strip().split()\n",
    "    input_ids = torch.tensor([[word2idx.get(w, word2idx[\"<UNK>\"]) for w in input_tokens]]).to(device)\n",
    "\n",
    "    with torch.no_grad():\n",
    "        output = model(input_ids)  # expected shape: [1, vocab_size]\n",
    "        predicted_token_id = output.argmax(dim=-1).item()  # no need for [:, -1, :]\n",
    "        predicted_word = idx2word.get(predicted_token_id, \"<UNK>\")\n",
    "\n",
    "    predicted_sentence = input_text + \" \" + predicted_word\n",
    "    #predicted_sentence = input_text + \" foobar\"\n",
    "    true_sentence = input_text + \" \" + true_word\n",
    "\n",
    "    predicted_sentences.append(predicted_sentence)\n",
    "    true_sentences.append(true_sentence)\n",
    "\n",
    "# Compute BERTScore\n",
    "P, R, F1 = bertscore(predicted_sentences, true_sentences, lang=\"en\", verbose=True)\n",
    "\n",
    "# Print each result\n",
    "for i, (inp, pred, true, score) in enumerate(zip(test_inputs, predicted_sentences, true_sentences, F1)):\n",
    "    print(f\"{i+1}. Input: {inp}\")\n",
    "    print(f\"   True Sentence:      {true}\")\n",
    "    print(f\"   Predicted Sentence: {pred}\")\n",
    "    print(f\"   BERTScore (F1):     {score.item():.4f}\")\n",
    "    print(\"-\" * 60)\n",
    "\n",
    "# Print average BERTScore\n",
    "average_score = F1.mean().item()\n",
    "print(f\"\\n Average BERTScore over 10 examples: {average_score:.4f}\")\n"
   ]
  },
  {
   "cell_type": "code",
   "execution_count": null,
   "id": "bec03611-61a4-48ca-9309-3f03f9e4b96b",
   "metadata": {},
   "outputs": [],
   "source": []
  },
  {
   "cell_type": "code",
   "execution_count": null,
   "id": "14e7b1c3-7ff6-41eb-a9df-5e6a76058011",
   "metadata": {},
   "outputs": [],
   "source": []
  }
 ],
 "metadata": {
  "kernelspec": {
   "display_name": "Python 3 (ipykernel)",
   "language": "python",
   "name": "python3"
  },
  "language_info": {
   "codemirror_mode": {
    "name": "ipython",
    "version": 3
   },
   "file_extension": ".py",
   "mimetype": "text/x-python",
   "name": "python",
   "nbconvert_exporter": "python",
   "pygments_lexer": "ipython3",
   "version": "3.13.3"
  }
 },
 "nbformat": 4,
 "nbformat_minor": 5
}
