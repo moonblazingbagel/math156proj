{
 "cells": [
  {
   "cell_type": "code",
   "execution_count": 37,
   "id": "63c5a790-17d9-4126-8c26-2b91d2800b00",
   "metadata": {},
   "outputs": [],
   "source": [
    "import torch\n",
    "import torch.nn as nn\n",
    "from torch.utils.data import Dataset, DataLoader\n",
    "import re\n",
    "from collections import Counter\n",
    "import requests"
   ]
  },
  {
   "cell_type": "code",
   "execution_count": 38,
   "id": "1093bc26-d5ac-4686-9fe9-4757dfbe3644",
   "metadata": {},
   "outputs": [],
   "source": [
    "def preprocess_text(text):\n",
    "    text = text.lower()\n",
    "    text = re.sub(r\"[^\\w\\s]\", \"\", text)\n",
    "    return text.split()\n",
    "\n",
    "def build_vocab(word_list, vocab_size=5000):\n",
    "    most_common = Counter(word_list).most_common(vocab_size - 1)\n",
    "    vocab = {w: i+1 for i, (w, _) in enumerate(most_common)}\n",
    "    vocab[\"<UNK>\"] = 0\n",
    "    return vocab\n",
    "\n",
    "def encode_words(word_list, vocab):\n",
    "    return [vocab.get(word, vocab[\"<UNK>\"]) for word in word_list]\n",
    "\n",
    "url = \"https://www.gutenberg.org/files/11/11-0.txt\"\n",
    "response = requests.get(url)\n",
    "raw_text = response.text\n",
    "\n",
    "words = preprocess_text(raw_text)\n",
    "vocab = build_vocab(words)\n",
    "encoded = encode_words(words, vocab)\n",
    "idx2word = {i: w for w, i in vocab.items()}"
   ]
  },
  {
   "cell_type": "code",
   "execution_count": 39,
   "id": "9893bdf9-97e1-43c5-91fb-a388db441ab4",
   "metadata": {},
   "outputs": [],
   "source": [
    "\n",
    "class LanguageModelDataset(Dataset):\n",
    "    def __init__(self, data, seq_len):\n",
    "        self.data = data\n",
    "        self.seq_len = seq_len\n",
    "\n",
    "    def __len__(self):\n",
    "        return len(self.data) - self.seq_len\n",
    "\n",
    "    def __getitem__(self, idx):\n",
    "        x = torch.tensor(self.data[idx : idx + self.seq_len])\n",
    "        y = torch.tensor(self.data[idx + self.seq_len])\n",
    "        return x, y\n",
    "\n",
    "dataset = LanguageModelDataset(encoded, seq_len=5)\n",
    "loader = DataLoader(dataset, batch_size=64, shuffle=True, drop_last=True)\n"
   ]
  },
  {
   "cell_type": "code",
   "execution_count": 40,
   "id": "61e1b177-9099-409c-a7f5-3bce11238abb",
   "metadata": {},
   "outputs": [],
   "source": [
    "class SimpleGRU(nn.Module):\n",
    "    def __init__(self, input_dim, hidden_dim):\n",
    "        super(SimpleGRU, self).__init__()\n",
    "        self.W_z = nn.Linear(input_dim, hidden_dim)\n",
    "        self.U_z = nn.Linear(hidden_dim, hidden_dim, bias=False)\n",
    "\n",
    "        self.W_r = nn.Linear(input_dim, hidden_dim)\n",
    "        self.U_r = nn.Linear(hidden_dim, hidden_dim, bias=False)\n",
    "\n",
    "        self.W_h = nn.Linear(input_dim, hidden_dim)\n",
    "        self.U_h = nn.Linear(hidden_dim, hidden_dim, bias=False)\n",
    "\n",
    "    def forward(self, x, h_0=None):\n",
    "        seq_len, batch_size, _ = x.size()\n",
    "        h_t = torch.zeros(batch_size, self.U_h.out_features, device=x.device) if h_0 is None else h_0\n",
    "        outputs = []\n",
    "        for t in range(seq_len):\n",
    "            x_t = x[t]\n",
    "            z_t = torch.sigmoid(self.W_z(x_t) + self.U_z(h_t))\n",
    "            r_t = torch.sigmoid(self.W_r(x_t) + self.U_r(h_t))\n",
    "            h_tilde = torch.tanh(self.W_h(x_t) + self.U_h(r_t * h_t))\n",
    "            h_t = (1 - z_t) * h_t + z_t * h_tilde\n",
    "            outputs.append(h_t.unsqueeze(0))\n",
    "        return torch.cat(outputs, dim=0), h_t\n"
   ]
  },
  {
   "cell_type": "code",
   "execution_count": 41,
   "id": "c2d1589f-347b-471d-861d-6a1a756f3210",
   "metadata": {},
   "outputs": [],
   "source": [
    "class CustomGRULM(nn.Module):\n",
    "    def __init__(self, vocab_size, embedding_dim, hidden_dim):\n",
    "        super().__init__()\n",
    "        self.embedding = nn.Embedding(vocab_size, embedding_dim)\n",
    "        self.gru = SimpleGRU(embedding_dim, hidden_dim)\n",
    "        self.fc = nn.Linear(hidden_dim, vocab_size)\n",
    "\n",
    "    def forward(self, x):\n",
    "        x = self.embedding(x)\n",
    "        x = x.permute(1, 0, 2)  # (seq_len, batch_size, embedding_dim)\n",
    "        out, _ = self.gru(x)\n",
    "        return self.fc(out[-1])\n"
   ]
  },
  {
   "cell_type": "code",
   "execution_count": 42,
   "id": "4e38ec3b-a50d-4521-b618-e6e5519806cb",
   "metadata": {},
   "outputs": [],
   "source": [
    "vocab_size = len(vocab)\n",
    "model = CustomGRULM(vocab_size, embedding_dim=32, hidden_dim=128)\n",
    "optimizer = torch.optim.SGD(model.parameters(), lr=0.3, momentum=0.9)\n",
    "criterion = nn.CrossEntropyLoss()"
   ]
  },
  {
   "cell_type": "code",
   "execution_count": 43,
   "id": "c76e0789-905b-4134-897d-5416584baf9b",
   "metadata": {},
   "outputs": [
    {
     "name": "stdout",
     "output_type": "stream",
     "text": [
      "Epoch 1, Loss: 2448.6518\n",
      "Epoch 2, Loss: 2152.6536\n",
      "Epoch 3, Loss: 1983.1302\n",
      "Epoch 4, Loss: 1842.9782\n",
      "Epoch 5, Loss: 1745.3019\n"
     ]
    }
   ],
   "source": [
    "for epoch in range(5):\n",
    "    total_loss = 0\n",
    "    for inputs, targets in loader:\n",
    "        outputs = model(inputs)\n",
    "        loss = criterion(outputs, targets)\n",
    "        optimizer.zero_grad()\n",
    "        loss.backward()\n",
    "        optimizer.step()\n",
    "        total_loss += loss.item()\n",
    "    print(f\"Epoch {epoch+1}, Loss: {total_loss:.4f}\")"
   ]
  },
  {
   "cell_type": "code",
   "execution_count": 44,
   "id": "995dd88e-3aec-46ff-bcaf-285474e9ae94",
   "metadata": {},
   "outputs": [],
   "source": [
    "def predict_next_word(seed_text):\n",
    "    model.eval()\n",
    "    seq_len = 5\n",
    "    seed_words = preprocess_text(seed_text)[-seq_len:]\n",
    "    encoded_input = encode_words(seed_words, vocab)\n",
    "    if len(encoded_input) < seq_len:\n",
    "        encoded_input = [0] * (seq_len - len(encoded_input)) + encoded_input\n",
    "    input_tensor = torch.tensor([encoded_input])\n",
    "    with torch.no_grad():\n",
    "        output = model(input_tensor)\n",
    "        next_word_id = torch.argmax(output, dim=-1).item()\n",
    "    return idx2word[next_word_id]"
   ]
  },
  {
   "cell_type": "code",
   "execution_count": 45,
   "id": "816c067d-ec39-410e-8625-e7fa49c1813a",
   "metadata": {},
   "outputs": [
    {
     "name": "stdout",
     "output_type": "stream",
     "text": [
      "Input: she was not a bit\n",
      "Prediction: afraid\n"
     ]
    }
   ],
   "source": [
    "print(\"Input:\", \"she was not a bit\")\n",
    "print(\"Prediction:\", predict_next_word(\"she was not a bit\"))"
   ]
  }
 ],
 "metadata": {
  "kernelspec": {
   "display_name": "Python (gpt2env)",
   "language": "python",
   "name": "gpt2env"
  },
  "language_info": {
   "codemirror_mode": {
    "name": "ipython",
    "version": 3
   },
   "file_extension": ".py",
   "mimetype": "text/x-python",
   "name": "python",
   "nbconvert_exporter": "python",
   "pygments_lexer": "ipython3",
   "version": "3.10.16"
  }
 },
 "nbformat": 4,
 "nbformat_minor": 5
}
