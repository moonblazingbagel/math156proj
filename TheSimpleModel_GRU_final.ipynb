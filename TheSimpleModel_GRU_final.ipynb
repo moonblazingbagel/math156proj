{
 "cells": [
  {
   "cell_type": "code",
   "execution_count": 25,
   "id": "63c5a790-17d9-4126-8c26-2b91d2800b00",
   "metadata": {},
   "outputs": [
    {
     "name": "stdout",
     "output_type": "stream",
     "text": [
      "complete\n"
     ]
    }
   ],
   "source": [
    "#Imports\n",
    "import torch\n",
    "import torch.nn as nn\n",
    "from torch.utils.data import Dataset, DataLoader\n",
    "import re\n",
    "from collections import Counter\n",
    "import requests\n",
    "print(\"complete\")"
   ]
  },
  {
   "cell_type": "code",
   "execution_count": 26,
   "id": "1093bc26-d5ac-4686-9fe9-4757dfbe3644",
   "metadata": {},
   "outputs": [],
   "source": [
    "def preprocess_text(text):\n",
    "    text = text.lower()\n",
    "    text = re.sub(r\"[^\\w\\s]\", \"\", text)\n",
    "    return text.split()\n",
    "\n",
    "def build_vocab(word_list, vocab_size=5000):\n",
    "    most_common = Counter(word_list).most_common(vocab_size - 1)\n",
    "    vocab = {w: i+1 for i, (w, _) in enumerate(most_common)}\n",
    "    vocab[\"<UNK>\"] = 0\n",
    "    return vocab\n",
    "\n",
    "def encode_words(word_list, vocab):\n",
    "    return [vocab.get(word, vocab[\"<UNK>\"]) for word in word_list]\n",
    "\n",
    "url = \"https://www.gutenberg.org/files/11/11-0.txt\"\n",
    "response = requests.get(url)\n",
    "raw_text = response.text\n",
    "\n",
    "words = preprocess_text(raw_text)\n",
    "vocab = build_vocab(words)               \n",
    "encoded = encode_words(words, vocab)\n",
    "idx2word = {i: w for w, i in vocab.items()}  "
   ]
  },
  {
   "cell_type": "code",
   "execution_count": 27,
   "id": "9893bdf9-97e1-43c5-91fb-a388db441ab4",
   "metadata": {},
   "outputs": [],
   "source": [
    "\n",
    "class SimpleGRU(nn.Module):\n",
    "    def __init__(self, input_dim, hidden_dim):\n",
    "        super(SimpleGRU, self).__init__()\n",
    "        self.input_dim = input_dim\n",
    "        self.hidden_dim = hidden_dim\n",
    "\n",
    "        self.W_z = nn.Linear(input_dim, hidden_dim)\n",
    "        self.U_z = nn.Linear(hidden_dim, hidden_dim, bias=False)\n",
    "\n",
    "        self.W_r = nn.Linear(input_dim, hidden_dim)\n",
    "        self.U_r = nn.Linear(hidden_dim, hidden_dim, bias=False)\n",
    "\n",
    "        self.W_h = nn.Linear(input_dim, hidden_dim)\n",
    "        self.U_h = nn.Linear(hidden_dim, hidden_dim, bias=False)\n",
    "\n",
    "    def forward(self, x, h_0=None):\n",
    "        seq_len, batch_size, _ = x.size()\n",
    "        if h_0 is None:\n",
    "            h_t = torch.zeros(batch_size, self.hidden_dim, device=x.device)\n",
    "        else:\n",
    "            h_t = h_0\n",
    "\n",
    "        outputs = []\n",
    "        for t in range(seq_len):\n",
    "            x_t = x[t]\n",
    "            z_t = torch.sigmoid(self.W_z(x_t) + self.U_z(h_t))\n",
    "            r_t = torch.sigmoid(self.W_r(x_t) + self.U_r(h_t))\n",
    "            h_tilde = torch.tanh(self.W_h(x_t) + self.U_h(r_t * h_t))\n",
    "            h_t = (1 - z_t) * h_t + z_t * h_tilde\n",
    "            outputs.append(h_t.unsqueeze(0))\n",
    "        return torch.cat(outputs, dim=0), h_t\n",
    "\n",
    "\n",
    "class GRULanguageModel(nn.Module):\n",
    "    def __init__(self, vocab_size, embedding_dim, hidden_dim):\n",
    "        super(GRULanguageModel, self).__init__()\n",
    "        self.embedding = nn.Embedding(vocab_size, embedding_dim)\n",
    "        self.gru = SimpleGRU(embedding_dim, hidden_dim)\n",
    "        self.decoder = nn.Linear(hidden_dim, vocab_size)\n",
    "\n",
    "    def forward(self, input_seq):\n",
    "        embedded = self.embedding(input_seq)\n",
    "        gru_out, _ = self.gru(embedded)\n",
    "        logits = self.decoder(gru_out[-1])\n",
    "        return logits\n"
   ]
  },
  {
   "cell_type": "code",
   "execution_count": null,
   "id": "66aff363-68a9-48b4-ac84-dd5e2d7e6de2",
   "metadata": {},
   "outputs": [
    {
     "name": "stdout",
     "output_type": "stream",
     "text": [
      "complete\n"
     ]
    }
   ],
   "source": [
    "class NeuralLM(nn.Module):\n",
    "    def __init__(self, vocab_size, embed_dim=64, hidden_dim=128):\n",
    "        super().__init__()\n",
    "        self.embedding = nn.Embedding(vocab_size, embed_dim)\n",
    "        self.rnn = nn.GRU(embed_dim, hidden_dim, batch_first=True)\n",
    "        self.fc = nn.Linear(hidden_dim, vocab_size)\n",
    "\n",
    "    def forward(self, x):\n",
    "        x = self.embedding(x)\n",
    "        out, _ = self.rnn(x)\n",
    "        out = self.fc(out[:, -1]) \n",
    "        return out\n",
    "\n",
    "vocab_size = len(vocab)\n",
    "model = NeuralLM(vocab_size)\n",
    "optimizer = torch.optim.SGD(model.parameters(), lr=0.005)\n",
    "criterion = nn.CrossEntropyLoss()\n",
    "print(\"complete\")"
   ]
  },
  {
   "cell_type": "code",
   "execution_count": 29,
   "id": "64073dac",
   "metadata": {},
   "outputs": [],
   "source": [
    "\n",
    "from torch.utils.data import Dataset, DataLoader\n",
    "\n",
    "class LanguageModelDataset(Dataset):\n",
    "    def __init__(self, data, seq_len):\n",
    "        self.data = data\n",
    "        self.seq_len = seq_len\n",
    "\n",
    "    def __len__(self):\n",
    "        return len(self.data) - self.seq_len\n",
    "\n",
    "    def __getitem__(self, idx):\n",
    "        x = torch.tensor(self.data[idx : idx + self.seq_len])\n",
    "        y = torch.tensor(self.data[idx + self.seq_len])\n",
    "        return x, y\n",
    "\n",
    "\n",
    "dataset = LanguageModelDataset(encoded, seq_len=5)\n",
    "loader = DataLoader(dataset, batch_size=64, shuffle=True, drop_last=True)"
   ]
  },
  {
   "cell_type": "code",
   "execution_count": 30,
   "id": "262c5dc1-aa98-4021-9232-06dbf539a1f5",
   "metadata": {},
   "outputs": [
    {
     "name": "stdout",
     "output_type": "stream",
     "text": [
      "Epoch 1, Loss: 2427.7701\n",
      "Epoch 2, Loss: 1923.4140\n",
      "Epoch 3, Loss: 1504.4037\n",
      "Epoch 4, Loss: 1133.1184\n",
      "Epoch 5, Loss: 862.7393\n",
      "Epoch 6, Loss: 668.4510\n",
      "Epoch 7, Loss: 534.2022\n",
      "Epoch 8, Loss: 431.4213\n",
      "Epoch 9, Loss: 350.7859\n",
      "Epoch 10, Loss: 301.3509\n",
      "complete\n"
     ]
    }
   ],
   "source": [
    "for epoch in range(10):\n",
    "    total_loss = 0\n",
    "    for inputs, targets in loader:\n",
    "        outputs = model(inputs)\n",
    "        loss = criterion(outputs, targets)\n",
    "        optimizer.zero_grad()\n",
    "        loss.backward()\n",
    "        optimizer.step()\n",
    "        total_loss += loss.item()\n",
    "    print(f\"Epoch {epoch+1}, Loss: {total_loss:.4f}\")\n",
    "    torch.save(model.state_dict(), f\"neural_lm_epoch{epoch+1}.pt\")\n",
    "print(\"complete\")"
   ]
  },
  {
   "cell_type": "code",
   "execution_count": 31,
   "id": "b5b6216e",
   "metadata": {},
   "outputs": [],
   "source": [
    "seq_len = 5 "
   ]
  },
  {
   "cell_type": "code",
   "execution_count": 32,
   "id": "49a03c26-cc2a-45fe-9c40-70beb2abb20e",
   "metadata": {},
   "outputs": [
    {
     "name": "stdout",
     "output_type": "stream",
     "text": [
      "Input: she was not a bit\n",
      "Next word prediction: hurt\n",
      "complete\n"
     ]
    }
   ],
   "source": [
    "def predict_next_word(seed_text):\n",
    "    model.eval()\n",
    "    seed_words = preprocess_text(seed_text)[-seq_len:]\n",
    "    encoded_input = encode_words(seed_words, vocab)\n",
    "    if len(encoded_input) < seq_len:\n",
    "        encoded_input = [0] * (seq_len - len(encoded_input)) + encoded_input\n",
    "    input_tensor = torch.tensor([encoded_input])\n",
    "    with torch.no_grad():\n",
    "        output = model(input_tensor)\n",
    "        next_word_id = torch.argmax(output, dim=-1).item()\n",
    "    return idx2word[next_word_id]\n",
    "\n",
    "print(\"Input:\", \"she was not a bit\")\n",
    "print(\"Next word prediction:\", predict_next_word(\"she was not a bit\"))\n",
    "print(\"complete\")"
   ]
  },
  {
   "cell_type": "code",
   "execution_count": 33,
   "id": "36c1a961-a5fb-4e3f-ac66-e9c7a9ad2906",
   "metadata": {},
   "outputs": [
    {
     "name": "stdout",
     "output_type": "stream",
     "text": [
      "Input: she was not a bit\n",
      "Next word prediction: hurt\n"
     ]
    }
   ],
   "source": [
    "print(\"Input:\", \"she was not a bit\")\n",
    "print(\"Next word prediction:\", predict_next_word(\"she was not a bit\"))"
   ]
  },
  {
   "cell_type": "code",
   "execution_count": 34,
   "id": "52a46232-2a10-41b2-b7cb-f6571409cf42",
   "metadata": {},
   "outputs": [
    {
     "name": "stdout",
     "output_type": "stream",
     "text": [
      "Input: Alice fell down the rabbit\n",
      "Next word prediction: went\n"
     ]
    }
   ],
   "source": [
    "print(\"Input:\", \"Alice fell down the rabbit\")\n",
    "print(\"Next word prediction:\", predict_next_word(\"Alice fell down the rabbit\"))"
   ]
  },
  {
   "cell_type": "code",
   "execution_count": 35,
   "id": "296fe018-9f86-4ae0-902b-ef66435dc5c3",
   "metadata": {},
   "outputs": [
    {
     "name": "stdout",
     "output_type": "stream",
     "text": [
      "Input: I am going to attack\n",
      "Next word prediction: then\n"
     ]
    }
   ],
   "source": [
    "print(\"Input:\", \"I am going to attack\")\n",
    "print(\"Next word prediction:\", predict_next_word(\"I am going to attack\"))"
   ]
  }
 ],
 "metadata": {
  "kernelspec": {
   "display_name": "Python (gpt2env)",
   "language": "python",
   "name": "gpt2env"
  },
  "language_info": {
   "codemirror_mode": {
    "name": "ipython",
    "version": 3
   },
   "file_extension": ".py",
   "mimetype": "text/x-python",
   "name": "python",
   "nbconvert_exporter": "python",
   "pygments_lexer": "ipython3",
   "version": "3.10.16"
  }
 },
 "nbformat": 4,
 "nbformat_minor": 5
}
